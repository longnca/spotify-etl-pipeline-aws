{
 "cells": [
  {
   "cell_type": "code",
   "execution_count": 1,
   "metadata": {},
   "outputs": [
    {
     "name": "stdout",
     "output_type": "stream",
     "text": [
      "Collecting spotipy\n",
      "  Downloading spotipy-2.23.0-py3-none-any.whl.metadata (3.3 kB)\n",
      "Collecting redis>=3.5.3 (from spotipy)\n",
      "  Downloading redis-5.0.2-py3-none-any.whl.metadata (9.3 kB)\n",
      "Collecting requests>=2.25.0 (from spotipy)\n",
      "  Downloading requests-2.31.0-py3-none-any.whl.metadata (4.6 kB)\n",
      "Requirement already satisfied: six>=1.15.0 in c:\\users\\longt\\my drive (dsbuff01@gmail.com)\\my-github-repo\\spotify-data-pipeline-tutorial\\venv\\lib\\site-packages (from spotipy) (1.16.0)\n",
      "Collecting urllib3>=1.26.0 (from spotipy)\n",
      "  Downloading urllib3-2.2.1-py3-none-any.whl.metadata (6.4 kB)\n",
      "Collecting async-timeout>=4.0.3 (from redis>=3.5.3->spotipy)\n",
      "  Downloading async_timeout-4.0.3-py3-none-any.whl.metadata (4.2 kB)\n",
      "Collecting charset-normalizer<4,>=2 (from requests>=2.25.0->spotipy)\n",
      "  Downloading charset_normalizer-3.3.2-cp312-cp312-win_amd64.whl.metadata (34 kB)\n",
      "Requirement already satisfied: idna<4,>=2.5 in c:\\users\\longt\\my drive (dsbuff01@gmail.com)\\my-github-repo\\spotify-data-pipeline-tutorial\\venv\\lib\\site-packages (from requests>=2.25.0->spotipy) (3.6)\n",
      "Collecting certifi>=2017.4.17 (from requests>=2.25.0->spotipy)\n",
      "  Using cached certifi-2024.2.2-py3-none-any.whl.metadata (2.2 kB)\n",
      "Downloading spotipy-2.23.0-py3-none-any.whl (29 kB)\n",
      "Downloading redis-5.0.2-py3-none-any.whl (251 kB)\n",
      "   ---------------------------------------- 0.0/251.7 kB ? eta -:--:--\n",
      "   ------------- -------------------------- 81.9/251.7 kB 2.3 MB/s eta 0:00:01\n",
      "   --------------------------- ------------ 174.1/251.7 kB 2.6 MB/s eta 0:00:01\n",
      "   ------------------------------ --------- 194.6/251.7 kB 1.7 MB/s eta 0:00:01\n",
      "   ----------------------------------- ---- 225.3/251.7 kB 1.3 MB/s eta 0:00:01\n",
      "   ----------------------------------- ---- 225.3/251.7 kB 1.3 MB/s eta 0:00:01\n",
      "   -------------------------------------- 251.7/251.7 kB 966.0 kB/s eta 0:00:00\n",
      "Downloading requests-2.31.0-py3-none-any.whl (62 kB)\n",
      "   ---------------------------------------- 0.0/62.6 kB ? eta -:--:--\n",
      "   ---------------------------------------- 62.6/62.6 kB 1.6 MB/s eta 0:00:00\n",
      "Downloading urllib3-2.2.1-py3-none-any.whl (121 kB)\n",
      "   ---------------------------------------- 0.0/121.1 kB ? eta -:--:--\n",
      "   ------------------------------------- -- 112.6/121.1 kB 3.2 MB/s eta 0:00:01\n",
      "   ---------------------------------------- 121.1/121.1 kB 2.4 MB/s eta 0:00:00\n",
      "Downloading async_timeout-4.0.3-py3-none-any.whl (5.7 kB)\n",
      "Using cached certifi-2024.2.2-py3-none-any.whl (163 kB)\n",
      "Downloading charset_normalizer-3.3.2-cp312-cp312-win_amd64.whl (100 kB)\n",
      "   ---------------------------------------- 0.0/100.4 kB ? eta -:--:--\n",
      "   ---------------------------------------- 100.4/100.4 kB 1.9 MB/s eta 0:00:00\n",
      "Installing collected packages: urllib3, charset-normalizer, certifi, async-timeout, requests, redis, spotipy\n",
      "Successfully installed async-timeout-4.0.3 certifi-2024.2.2 charset-normalizer-3.3.2 redis-5.0.2 requests-2.31.0 spotipy-2.23.0 urllib3-2.2.1\n"
     ]
    }
   ],
   "source": [
    "!pip install spotipy"
   ]
  },
  {
   "cell_type": "code",
   "execution_count": 2,
   "metadata": {},
   "outputs": [],
   "source": [
    "import spotipy\n",
    "from spotipy.oauth2 import SpotifyClientCredentials"
   ]
  },
  {
   "cell_type": "code",
   "execution_count": 7,
   "metadata": {},
   "outputs": [],
   "source": [
    "auth_manager = SpotifyClientCredentials(client_id='f6151ebbb3834e95811e41ec2d1d3f16',\n",
    "                                        client_secret='b545dc24ea274e77a3c6dfaf48ae92bc')"
   ]
  },
  {
   "cell_type": "code",
   "execution_count": 8,
   "metadata": {},
   "outputs": [],
   "source": [
    "sp = spotipy.Spotify(auth_manager=auth_manager)"
   ]
  },
  {
   "cell_type": "code",
   "execution_count": 9,
   "metadata": {},
   "outputs": [
    {
     "name": "stdout",
     "output_type": "stream",
     "text": [
      "Portraits (+ Remixes)\n",
      "Portraits\n",
      "Young Heart\n",
      "Beautiful Lies (Deluxe)\n",
      "Beautiful Lies\n",
      "Fire Within\n",
      "Live in London\n",
      "Birdy\n"
     ]
    }
   ],
   "source": [
    "# List the names of all the albums released by the artist ‘Birdy’\n",
    "birdy_uri = 'spotify:artist:2WX2uTcsvV5OnS0inACecP'\n",
    "\n",
    "results = sp.artist_albums(birdy_uri, album_type='album')\n",
    "albums = results['items']\n",
    "while results['next']:\n",
    "    results = spotify.next(results)\n",
    "    albums.extend(results['items'])\n",
    "\n",
    "for album in albums:\n",
    "    print(album['name'])"
   ]
  }
 ],
 "metadata": {
  "kernelspec": {
   "display_name": "venv",
   "language": "python",
   "name": "python3"
  },
  "language_info": {
   "codemirror_mode": {
    "name": "ipython",
    "version": 3
   },
   "file_extension": ".py",
   "mimetype": "text/x-python",
   "name": "python",
   "nbconvert_exporter": "python",
   "pygments_lexer": "ipython3",
   "version": "3.12.2"
  }
 },
 "nbformat": 4,
 "nbformat_minor": 2
}
